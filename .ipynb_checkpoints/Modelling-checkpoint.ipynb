{
 "cells": [
  {
   "cell_type": "markdown",
   "id": "56dd265e-c31b-4029-bf2c-22fca50b8585",
   "metadata": {},
   "source": [
    "# Predicting Toronto Ferry Activity"
   ]
  },
  {
   "cell_type": "code",
   "execution_count": 1,
   "id": "0c37d269-ab8b-44be-9ddd-d60e63d837c2",
   "metadata": {},
   "outputs": [
    {
     "ename": "ModuleNotFoundError",
     "evalue": "No module named 'statsmodels'",
     "output_type": "error",
     "traceback": [
      "\u001b[1;31m---------------------------------------------------------------------------\u001b[0m",
      "\u001b[1;31mModuleNotFoundError\u001b[0m                       Traceback (most recent call last)",
      "Cell \u001b[1;32mIn [1], line 1\u001b[0m\n\u001b[1;32m----> 1\u001b[0m \u001b[38;5;28;01mfrom\u001b[39;00m \u001b[38;5;21;01mModel\u001b[39;00m \u001b[38;5;28;01mimport\u001b[39;00m RedemptionModel \n\u001b[0;32m      2\u001b[0m \u001b[38;5;28;01mimport\u001b[39;00m \u001b[38;5;21;01mpandas\u001b[39;00m \u001b[38;5;28;01mas\u001b[39;00m \u001b[38;5;21;01mpd\u001b[39;00m\n",
      "File \u001b[1;32mD:\\App_projects\\COMP-44081\\Model.py:2\u001b[0m\n\u001b[0;32m      1\u001b[0m \u001b[38;5;28;01mimport\u001b[39;00m \u001b[38;5;21;01mpandas\u001b[39;00m \u001b[38;5;28;01mas\u001b[39;00m \u001b[38;5;21;01mpd\u001b[39;00m\n\u001b[1;32m----> 2\u001b[0m \u001b[38;5;28;01mimport\u001b[39;00m \u001b[38;5;21;01mstatsmodels\u001b[39;00m\u001b[38;5;21;01m.\u001b[39;00m\u001b[38;5;21;01mapi\u001b[39;00m \u001b[38;5;28;01mas\u001b[39;00m \u001b[38;5;21;01msm\u001b[39;00m\n\u001b[0;32m      3\u001b[0m \u001b[38;5;28;01mfrom\u001b[39;00m \u001b[38;5;21;01msklearn\u001b[39;00m\u001b[38;5;21;01m.\u001b[39;00m\u001b[38;5;21;01mmetrics\u001b[39;00m \u001b[38;5;28;01mimport\u001b[39;00m mean_absolute_percentage_error \u001b[38;5;28;01mas\u001b[39;00m MAPE\n\u001b[0;32m      4\u001b[0m \u001b[38;5;28;01mfrom\u001b[39;00m \u001b[38;5;21;01msklearn\u001b[39;00m\u001b[38;5;21;01m.\u001b[39;00m\u001b[38;5;21;01mmodel_selection\u001b[39;00m \u001b[38;5;28;01mimport\u001b[39;00m TimeSeriesSplit\n",
      "\u001b[1;31mModuleNotFoundError\u001b[0m: No module named 'statsmodels'"
     ]
    }
   ],
   "source": [
    "from Model import RedemptionModel \n",
    "import pandas as pd "
   ]
  },
  {
   "cell_type": "code",
   "execution_count": null,
   "id": "1cdc19d2-0663-4a1b-ad77-06822c8426f0",
   "metadata": {},
   "outputs": [],
   "source": [
    "def load_data(file):\n",
    "    # generic data processing function\n",
    "    df = pd.read_csv(file,\n",
    "                dtype={'_id':int, 'Redemption Count': int, 'Sales Count':int},\n",
    "                parse_dates=['Timestamp'])\n",
    "    df.sort_values('Timestamp', inplace=True)\n",
    "    # convert to time-aware\n",
    "    df.set_index('Timestamp', inplace=True)\n",
    "    df_daily = df.resample('d').sum()\n",
    "    # engineer some time features \n",
    "    df_daily['monthly'] = df_daily.reset_index().Timestamp.dt.month.values\n",
    "    df_daily['quarter'] = df_daily.reset_index().Timestamp.dt.quarter.values\n",
    "    return df_daily"
   ]
  },
  {
   "cell_type": "code",
   "execution_count": null,
   "id": "7f92922f-4107-4989-84d6-9b3d3ec87cf3",
   "metadata": {},
   "outputs": [],
   "source": [
    "df = load_data('./data/Toronto Island Ferry Ticket Counts.csv')"
   ]
  },
  {
   "cell_type": "code",
   "execution_count": null,
   "id": "01a8ee08-8e44-4bb2-a73a-d8b7ff83a2f2",
   "metadata": {},
   "outputs": [],
   "source": [
    "rm = RedemptionModel(df, 'Redemption Count')\n",
    "rm.run_models()"
   ]
  },
  {
   "cell_type": "code",
   "execution_count": null,
   "id": "fffb44db-30dc-4954-ba78-863eda137b26",
   "metadata": {},
   "outputs": [],
   "source": [
    "# print model summary stats\n",
    "rm.results"
   ]
  }
 ],
 "metadata": {
  "kernelspec": {
   "display_name": "Python 3 (ipykernel)",
   "language": "python",
   "name": "python3"
  },
  "language_info": {
   "codemirror_mode": {
    "name": "ipython",
    "version": 3
   },
   "file_extension": ".py",
   "mimetype": "text/x-python",
   "name": "python",
   "nbconvert_exporter": "python",
   "pygments_lexer": "ipython3",
   "version": "3.9.13"
  }
 },
 "nbformat": 4,
 "nbformat_minor": 5
}
